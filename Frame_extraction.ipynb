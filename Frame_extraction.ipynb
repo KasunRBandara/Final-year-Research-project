{
  "nbformat": 4,
  "nbformat_minor": 0,
  "metadata": {
    "colab": {
      "provenance": []
    },
    "kernelspec": {
      "name": "python3",
      "display_name": "Python 3"
    },
    "language_info": {
      "name": "python"
    }
  },
  "cells": [
    {
      "cell_type": "code",
      "execution_count": null,
      "metadata": {
        "id": "B8ags8UCQjpZ"
      },
      "outputs": [],
      "source": [
        "from google.colab import drive\n",
        "import cv2\n"
      ]
    },
    {
      "cell_type": "code",
      "source": [
        "# Mounting Google Drive\n",
        "drive.mount('/content/drive')"
      ],
      "metadata": {
        "colab": {
          "base_uri": "https://localhost:8080/"
        },
        "id": "2Q506JmqS1eD",
        "outputId": "270a96bf-65d6-4c19-c2b4-d769840fedf5"
      },
      "execution_count": null,
      "outputs": [
        {
          "output_type": "stream",
          "name": "stdout",
          "text": [
            "Mounted at /content/drive\n"
          ]
        }
      ]
    },
    {
      "cell_type": "code",
      "source": [
        "def extract_frames(video_path, output_folder):\n",
        "    vidcap = cv2.VideoCapture(video_path)\n",
        "    success, image = vidcap.read()\n",
        "    count = 0\n",
        "\n",
        "    while success:\n",
        "        cv2.imwrite(f\"{output_folder}/frame{count:04d}.jpg\", image)  # Save frame as JPEG\n",
        "        success, image = vidcap.read()\n",
        "        count += 1\n",
        "\n",
        "    print(f'Frames extracted: {count}')\n",
        "\n",
        "# Replace 'video.mp4' with your video file path in your Drive and 'output_frames' with the desired output folder in your Drive\n",
        "extract_frames('/content/drive/My Drive/GDToT/1.mp4', '/content/drive/My Drive/Project')"
      ],
      "metadata": {
        "colab": {
          "base_uri": "https://localhost:8080/"
        },
        "id": "W8onYxJAS_PV",
        "outputId": "2502e8de-389d-44d1-ca2c-06be23eb673c"
      },
      "execution_count": null,
      "outputs": [
        {
          "output_type": "stream",
          "name": "stdout",
          "text": [
            "Frames extracted: 1014\n"
          ]
        }
      ]
    }
  ]
}